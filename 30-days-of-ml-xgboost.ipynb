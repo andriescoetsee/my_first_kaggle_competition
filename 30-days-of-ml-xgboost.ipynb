{
 "cells": [
  {
   "cell_type": "code",
   "execution_count": 1,
   "id": "desirable-measurement",
   "metadata": {
    "execution": {
     "iopub.execute_input": "2021-08-24T18:53:00.455558Z",
     "iopub.status.busy": "2021-08-24T18:53:00.454916Z",
     "iopub.status.idle": "2021-08-24T18:53:01.360619Z",
     "shell.execute_reply": "2021-08-24T18:53:01.359463Z",
     "shell.execute_reply.started": "2021-08-24T18:36:53.888092Z"
    },
    "papermill": {
     "duration": 0.93338,
     "end_time": "2021-08-24T18:53:01.360793",
     "exception": false,
     "start_time": "2021-08-24T18:53:00.427413",
     "status": "completed"
    },
    "tags": []
   },
   "outputs": [],
   "source": [
    "# Familiar imports\n",
    "import numpy as np\n",
    "import pandas as pd\n",
    "#import pandas_profiling as pp\n",
    "\n",
    "\n",
    "# For ordinal encoding categorical variables, splitting data\n",
    "from sklearn.preprocessing import OrdinalEncoder\n",
    "from sklearn.model_selection import train_test_split\n",
    "#from sklearn.impute import SimpleImputer\n",
    "\n",
    "# For training random forest model\n",
    "from xgboost import XGBRegressor\n",
    "from sklearn.metrics import mean_squared_error\n",
    "\n",
    "import warnings\n",
    "warnings.filterwarnings('ignore')"
   ]
  },
  {
   "cell_type": "markdown",
   "id": "gross-article",
   "metadata": {
    "papermill": {
     "duration": 0.0161,
     "end_time": "2021-08-24T18:53:01.393836",
     "exception": false,
     "start_time": "2021-08-24T18:53:01.377736",
     "status": "completed"
    },
    "tags": []
   },
   "source": [
    "# Functions for EDA - Exploratory Data Analysis"
   ]
  },
  {
   "cell_type": "code",
   "execution_count": 2,
   "id": "double-austria",
   "metadata": {
    "execution": {
     "iopub.execute_input": "2021-08-24T18:53:01.440030Z",
     "iopub.status.busy": "2021-08-24T18:53:01.438627Z",
     "iopub.status.idle": "2021-08-24T18:53:01.440866Z",
     "shell.execute_reply": "2021-08-24T18:53:01.441303Z",
     "shell.execute_reply.started": "2021-08-24T14:48:45.576954Z"
    },
    "papermill": {
     "duration": 0.031293,
     "end_time": "2021-08-24T18:53:01.441423",
     "exception": false,
     "start_time": "2021-08-24T18:53:01.410130",
     "status": "completed"
    },
    "tags": []
   },
   "outputs": [],
   "source": [
    "# Create a function that we can re-use\n",
    "def show_distribution(var_data):\n",
    "    from matplotlib import pyplot as plt\n",
    "\n",
    "    # Get statistics\n",
    "    min_val = var_data.min()\n",
    "    max_val = var_data.max()\n",
    "    mean_val = var_data.mean()\n",
    "    med_val = var_data.median()\n",
    "    mod_val = var_data.mode()[0]\n",
    "\n",
    "    print('Minimum:{:.2f}\\nMean:{:.2f}\\nMedian:{:.2f}\\nMode:{:.2f}\\nMaximum:{:.2f}\\n'.format(min_val,\n",
    "                                                                                            mean_val,\n",
    "                                                                                            med_val,\n",
    "                                                                                            mod_val,\n",
    "                                                                                            max_val))\n",
    "\n",
    "    # Create a figure for 2 subplots (2 rows, 1 column)\n",
    "    fig, ax = plt.subplots(2, 1, figsize = (10,4))\n",
    "\n",
    "    # Plot the histogram   \n",
    "    ax[0].hist(var_data)\n",
    "    ax[0].set_ylabel('Frequency')\n",
    "\n",
    "    # Add lines for the mean, median, and mode\n",
    "    ax[0].axvline(x=min_val, color = 'gray', linestyle='dashed', linewidth = 2)\n",
    "    ax[0].axvline(x=mean_val, color = 'cyan', linestyle='dashed', linewidth = 2)\n",
    "    ax[0].axvline(x=med_val, color = 'red', linestyle='dashed', linewidth = 2)\n",
    "    ax[0].axvline(x=mod_val, color = 'yellow', linestyle='dashed', linewidth = 2)\n",
    "    ax[0].axvline(x=max_val, color = 'gray', linestyle='dashed', linewidth = 2)\n",
    "\n",
    "    # Plot the boxplot   \n",
    "    ax[1].boxplot(var_data, vert=False)\n",
    "    ax[1].set_xlabel('Value')\n",
    "\n",
    "    # Add a title to the Figure\n",
    "    fig.suptitle('Data Distribution')\n",
    "\n",
    "    # Show the figure\n",
    "    plt.show()\n",
    "\n",
    "def show_density(var_data):\n",
    "    from matplotlib import pyplot as plt\n",
    "\n",
    "    mean_val = var_data.mean()\n",
    "    med_val = var_data.median()\n",
    "    mod_val = var_data.mode()[0]\n",
    "\n",
    "    print('Mean:{:.2f}\\nMedian:{:.2f}\\nMode:{:.2f}\\n'.format(mean_val, med_val, mod_val))\n",
    "\n",
    "    fig = plt.figure(figsize=(10,4))\n",
    "\n",
    "    # Plot density\n",
    "    var_data.plot.density()\n",
    "\n",
    "    # Add titles and labels\n",
    "    plt.title('Data Density')\n",
    "\n",
    "    # Show the mean, median, and mode\n",
    "    plt.axvline(x=var_data.mean(), color = 'cyan', linestyle='dashed', linewidth = 2)\n",
    "    plt.axvline(x=var_data.median(), color = 'red', linestyle='dashed', linewidth = 2)\n",
    "    plt.axvline(x=var_data.mode()[0], color = 'yellow', linestyle='dashed', linewidth = 2)\n",
    "\n",
    "    # Show the figure\n",
    "    plt.show()"
   ]
  },
  {
   "cell_type": "markdown",
   "id": "exclusive-replication",
   "metadata": {
    "papermill": {
     "duration": 0.015746,
     "end_time": "2021-08-24T18:53:01.473185",
     "exception": false,
     "start_time": "2021-08-24T18:53:01.457439",
     "status": "completed"
    },
    "tags": []
   },
   "source": [
    "# Load the data\n",
    "\n",
    "Next, we'll load the training and test data.  \n",
    "\n",
    "We set `index_col=0` in the code cell below to use the `id` column to index the DataFrame.  (*If you're not sure how this works, try temporarily removing `index_col=0` and see how it changes the result.*)"
   ]
  },
  {
   "cell_type": "code",
   "execution_count": 3,
   "id": "fatty-justice",
   "metadata": {
    "execution": {
     "iopub.execute_input": "2021-08-24T18:53:01.512058Z",
     "iopub.status.busy": "2021-08-24T18:53:01.511449Z",
     "iopub.status.idle": "2021-08-24T18:53:04.869650Z",
     "shell.execute_reply": "2021-08-24T18:53:04.870127Z",
     "shell.execute_reply.started": "2021-08-24T18:37:01.578613Z"
    },
    "papermill": {
     "duration": 3.380969,
     "end_time": "2021-08-24T18:53:04.870280",
     "exception": false,
     "start_time": "2021-08-24T18:53:01.489311",
     "status": "completed"
    },
    "tags": []
   },
   "outputs": [
    {
     "data": {
      "text/html": [
       "<div>\n",
       "<style scoped>\n",
       "    .dataframe tbody tr th:only-of-type {\n",
       "        vertical-align: middle;\n",
       "    }\n",
       "\n",
       "    .dataframe tbody tr th {\n",
       "        vertical-align: top;\n",
       "    }\n",
       "\n",
       "    .dataframe thead th {\n",
       "        text-align: right;\n",
       "    }\n",
       "</style>\n",
       "<table border=\"1\" class=\"dataframe\">\n",
       "  <thead>\n",
       "    <tr style=\"text-align: right;\">\n",
       "      <th></th>\n",
       "      <th>cat0</th>\n",
       "      <th>cat1</th>\n",
       "      <th>cat2</th>\n",
       "      <th>cat3</th>\n",
       "      <th>cat4</th>\n",
       "      <th>cat5</th>\n",
       "      <th>cat6</th>\n",
       "      <th>cat7</th>\n",
       "      <th>cat8</th>\n",
       "      <th>cat9</th>\n",
       "      <th>...</th>\n",
       "      <th>cont5</th>\n",
       "      <th>cont6</th>\n",
       "      <th>cont7</th>\n",
       "      <th>cont8</th>\n",
       "      <th>cont9</th>\n",
       "      <th>cont10</th>\n",
       "      <th>cont11</th>\n",
       "      <th>cont12</th>\n",
       "      <th>cont13</th>\n",
       "      <th>target</th>\n",
       "    </tr>\n",
       "  </thead>\n",
       "  <tbody>\n",
       "    <tr>\n",
       "      <th>0</th>\n",
       "      <td>B</td>\n",
       "      <td>B</td>\n",
       "      <td>B</td>\n",
       "      <td>C</td>\n",
       "      <td>B</td>\n",
       "      <td>B</td>\n",
       "      <td>A</td>\n",
       "      <td>E</td>\n",
       "      <td>C</td>\n",
       "      <td>N</td>\n",
       "      <td>...</td>\n",
       "      <td>0.400361</td>\n",
       "      <td>0.160266</td>\n",
       "      <td>0.310921</td>\n",
       "      <td>0.389470</td>\n",
       "      <td>0.267559</td>\n",
       "      <td>0.237281</td>\n",
       "      <td>0.377873</td>\n",
       "      <td>0.322401</td>\n",
       "      <td>0.869850</td>\n",
       "      <td>8.113634</td>\n",
       "    </tr>\n",
       "    <tr>\n",
       "      <th>1</th>\n",
       "      <td>B</td>\n",
       "      <td>B</td>\n",
       "      <td>A</td>\n",
       "      <td>A</td>\n",
       "      <td>B</td>\n",
       "      <td>D</td>\n",
       "      <td>A</td>\n",
       "      <td>F</td>\n",
       "      <td>A</td>\n",
       "      <td>O</td>\n",
       "      <td>...</td>\n",
       "      <td>0.533087</td>\n",
       "      <td>0.558922</td>\n",
       "      <td>0.516294</td>\n",
       "      <td>0.594928</td>\n",
       "      <td>0.341439</td>\n",
       "      <td>0.906013</td>\n",
       "      <td>0.921701</td>\n",
       "      <td>0.261975</td>\n",
       "      <td>0.465083</td>\n",
       "      <td>8.481233</td>\n",
       "    </tr>\n",
       "    <tr>\n",
       "      <th>2</th>\n",
       "      <td>A</td>\n",
       "      <td>A</td>\n",
       "      <td>A</td>\n",
       "      <td>C</td>\n",
       "      <td>B</td>\n",
       "      <td>D</td>\n",
       "      <td>A</td>\n",
       "      <td>D</td>\n",
       "      <td>A</td>\n",
       "      <td>F</td>\n",
       "      <td>...</td>\n",
       "      <td>0.650609</td>\n",
       "      <td>0.375348</td>\n",
       "      <td>0.902567</td>\n",
       "      <td>0.555205</td>\n",
       "      <td>0.843531</td>\n",
       "      <td>0.748809</td>\n",
       "      <td>0.620126</td>\n",
       "      <td>0.541474</td>\n",
       "      <td>0.763846</td>\n",
       "      <td>8.364351</td>\n",
       "    </tr>\n",
       "    <tr>\n",
       "      <th>3</th>\n",
       "      <td>B</td>\n",
       "      <td>B</td>\n",
       "      <td>A</td>\n",
       "      <td>C</td>\n",
       "      <td>B</td>\n",
       "      <td>D</td>\n",
       "      <td>A</td>\n",
       "      <td>E</td>\n",
       "      <td>C</td>\n",
       "      <td>K</td>\n",
       "      <td>...</td>\n",
       "      <td>0.668980</td>\n",
       "      <td>0.239061</td>\n",
       "      <td>0.732948</td>\n",
       "      <td>0.679618</td>\n",
       "      <td>0.574844</td>\n",
       "      <td>0.346010</td>\n",
       "      <td>0.714610</td>\n",
       "      <td>0.540150</td>\n",
       "      <td>0.280682</td>\n",
       "      <td>8.049253</td>\n",
       "    </tr>\n",
       "    <tr>\n",
       "      <th>4</th>\n",
       "      <td>A</td>\n",
       "      <td>A</td>\n",
       "      <td>A</td>\n",
       "      <td>C</td>\n",
       "      <td>B</td>\n",
       "      <td>D</td>\n",
       "      <td>A</td>\n",
       "      <td>E</td>\n",
       "      <td>A</td>\n",
       "      <td>N</td>\n",
       "      <td>...</td>\n",
       "      <td>0.686964</td>\n",
       "      <td>0.420667</td>\n",
       "      <td>0.648182</td>\n",
       "      <td>0.684501</td>\n",
       "      <td>0.956692</td>\n",
       "      <td>1.000773</td>\n",
       "      <td>0.776742</td>\n",
       "      <td>0.625849</td>\n",
       "      <td>0.250823</td>\n",
       "      <td>7.972260</td>\n",
       "    </tr>\n",
       "  </tbody>\n",
       "</table>\n",
       "<p>5 rows × 25 columns</p>\n",
       "</div>"
      ],
      "text/plain": [
       "  cat0 cat1 cat2 cat3 cat4 cat5 cat6 cat7 cat8 cat9  ...     cont5     cont6  \\\n",
       "0    B    B    B    C    B    B    A    E    C    N  ...  0.400361  0.160266   \n",
       "1    B    B    A    A    B    D    A    F    A    O  ...  0.533087  0.558922   \n",
       "2    A    A    A    C    B    D    A    D    A    F  ...  0.650609  0.375348   \n",
       "3    B    B    A    C    B    D    A    E    C    K  ...  0.668980  0.239061   \n",
       "4    A    A    A    C    B    D    A    E    A    N  ...  0.686964  0.420667   \n",
       "\n",
       "      cont7     cont8     cont9    cont10    cont11    cont12    cont13  \\\n",
       "0  0.310921  0.389470  0.267559  0.237281  0.377873  0.322401  0.869850   \n",
       "1  0.516294  0.594928  0.341439  0.906013  0.921701  0.261975  0.465083   \n",
       "2  0.902567  0.555205  0.843531  0.748809  0.620126  0.541474  0.763846   \n",
       "3  0.732948  0.679618  0.574844  0.346010  0.714610  0.540150  0.280682   \n",
       "4  0.648182  0.684501  0.956692  1.000773  0.776742  0.625849  0.250823   \n",
       "\n",
       "     target  \n",
       "0  8.113634  \n",
       "1  8.481233  \n",
       "2  8.364351  \n",
       "3  8.049253  \n",
       "4  7.972260  \n",
       "\n",
       "[5 rows x 25 columns]"
      ]
     },
     "execution_count": 3,
     "metadata": {},
     "output_type": "execute_result"
    }
   ],
   "source": [
    "# Load the training data\n",
    "train = pd.read_csv(\"../input/30-days-of-ml/train.csv\") #, index_col=0)\n",
    "test = pd.read_csv(\"../input/30-days-of-ml/test.csv\",index_col=0)\n",
    "\n",
    "train.drop(\"id\", axis=1, inplace=True)\n",
    "#test.drop(\"id\", axis=1, inplace=True)\n",
    "\n",
    "# Preview the data\n",
    "train.head()"
   ]
  },
  {
   "cell_type": "markdown",
   "id": "recovered-principle",
   "metadata": {
    "papermill": {
     "duration": 0.016542,
     "end_time": "2021-08-24T18:53:04.904570",
     "exception": false,
     "start_time": "2021-08-24T18:53:04.888028",
     "status": "completed"
    },
    "tags": []
   },
   "source": [
    "The next code cell separates the target (which we assign to `y`) from the training features (which we assign to `features`)."
   ]
  },
  {
   "cell_type": "code",
   "execution_count": 4,
   "id": "limited-elder",
   "metadata": {
    "execution": {
     "iopub.execute_input": "2021-08-24T18:53:04.942450Z",
     "iopub.status.busy": "2021-08-24T18:53:04.941735Z",
     "iopub.status.idle": "2021-08-24T18:53:04.978645Z",
     "shell.execute_reply": "2021-08-24T18:53:04.978181Z",
     "shell.execute_reply.started": "2021-08-24T18:37:07.857013Z"
    },
    "papermill": {
     "duration": 0.057695,
     "end_time": "2021-08-24T18:53:04.978788",
     "exception": false,
     "start_time": "2021-08-24T18:53:04.921093",
     "status": "completed"
    },
    "tags": []
   },
   "outputs": [],
   "source": [
    "# Separate target from features\n",
    "y = train['target']\n",
    "features = train.drop(['target'], axis=1)\n",
    "\n",
    "\n",
    "# Preview features\n",
    "#features.head()"
   ]
  },
  {
   "cell_type": "code",
   "execution_count": 5,
   "id": "breathing-estate",
   "metadata": {
    "execution": {
     "iopub.execute_input": "2021-08-24T18:53:05.017795Z",
     "iopub.status.busy": "2021-08-24T18:53:05.016934Z",
     "iopub.status.idle": "2021-08-24T18:53:05.019027Z",
     "shell.execute_reply": "2021-08-24T18:53:05.019430Z",
     "shell.execute_reply.started": "2021-08-24T18:37:11.082211Z"
    },
    "papermill": {
     "duration": 0.023721,
     "end_time": "2021-08-24T18:53:05.019554",
     "exception": false,
     "start_time": "2021-08-24T18:53:04.995833",
     "status": "completed"
    },
    "tags": []
   },
   "outputs": [],
   "source": [
    "# let's zoom in on our y variable\n",
    "cont_cols = [col for col in features.columns if 'cont' in col]\n",
    "cat_cols = [col for col in features.columns if 'cat' in col]\n",
    "\n",
    "#show_density(y)\n",
    "#show_distribution(y)\n",
    "\n"
   ]
  },
  {
   "cell_type": "markdown",
   "id": "little-patio",
   "metadata": {
    "papermill": {
     "duration": 0.016721,
     "end_time": "2021-08-24T18:53:05.053001",
     "exception": false,
     "start_time": "2021-08-24T18:53:05.036280",
     "status": "completed"
    },
    "tags": []
   },
   "source": [
    "# Prepare the data\n"
   ]
  },
  {
   "cell_type": "code",
   "execution_count": 6,
   "id": "welcome-petite",
   "metadata": {
    "execution": {
     "iopub.execute_input": "2021-08-24T18:53:05.092055Z",
     "iopub.status.busy": "2021-08-24T18:53:05.091395Z",
     "iopub.status.idle": "2021-08-24T18:53:11.805204Z",
     "shell.execute_reply": "2021-08-24T18:53:11.804379Z",
     "shell.execute_reply.started": "2021-08-24T18:37:18.235375Z"
    },
    "papermill": {
     "duration": 6.735207,
     "end_time": "2021-08-24T18:53:11.805336",
     "exception": false,
     "start_time": "2021-08-24T18:53:05.070129",
     "status": "completed"
    },
    "tags": []
   },
   "outputs": [],
   "source": [
    "from sklearn.compose import ColumnTransformer\n",
    "from sklearn.pipeline import Pipeline\n",
    "from sklearn.preprocessing import OrdinalEncoder, StandardScaler\n",
    "\n",
    "\n",
    "X = features.copy()\n",
    "X_final = test.copy()\n",
    "\n",
    "transformers = ColumnTransformer(\n",
    "    [(\"ordinary_encoder\", OrdinalEncoder(), cat_cols),\n",
    "     (\"standardize\", StandardScaler(), cont_cols)],    #strictly not necessary for RandomForest\n",
    "    remainder=\"passthrough\"\n",
    ")\n",
    "\n",
    "X[features.columns] = transformers.fit_transform(X[features.columns])\n",
    "\n",
    "X_final[features.columns] = transformers.transform(X_final[features.columns])\n"
   ]
  },
  {
   "cell_type": "markdown",
   "id": "affecting-belief",
   "metadata": {
    "papermill": {
     "duration": 0.016888,
     "end_time": "2021-08-24T18:53:11.839298",
     "exception": false,
     "start_time": "2021-08-24T18:53:11.822410",
     "status": "completed"
    },
    "tags": []
   },
   "source": [
    "## Next, we break off a validation set from the training data.\n"
   ]
  },
  {
   "cell_type": "code",
   "execution_count": 7,
   "id": "figured-program",
   "metadata": {
    "execution": {
     "iopub.execute_input": "2021-08-24T18:53:11.877681Z",
     "iopub.status.busy": "2021-08-24T18:53:11.877013Z",
     "iopub.status.idle": "2021-08-24T18:53:11.986755Z",
     "shell.execute_reply": "2021-08-24T18:53:11.987170Z",
     "shell.execute_reply.started": "2021-08-24T18:39:20.366304Z"
    },
    "papermill": {
     "duration": 0.131396,
     "end_time": "2021-08-24T18:53:11.987327",
     "exception": false,
     "start_time": "2021-08-24T18:53:11.855931",
     "status": "completed"
    },
    "tags": []
   },
   "outputs": [],
   "source": [
    "# XGBoost is so much faster than RandomForest that we can afford bigger sets running on GPU\n",
    "train_size = 0.9\n",
    "test_size = 0.1   \n",
    "X_train, X_valid, y_train, y_valid = train_test_split(X, y, random_state=0, train_size=train_size, test_size=test_size )"
   ]
  },
  {
   "cell_type": "code",
   "execution_count": 8,
   "id": "declared-turtle",
   "metadata": {
    "execution": {
     "iopub.execute_input": "2021-08-24T18:53:12.025531Z",
     "iopub.status.busy": "2021-08-24T18:53:12.024804Z",
     "iopub.status.idle": "2021-08-24T18:53:12.027875Z",
     "shell.execute_reply": "2021-08-24T18:53:12.028245Z",
     "shell.execute_reply.started": "2021-08-24T18:39:24.063996Z"
    },
    "papermill": {
     "duration": 0.023932,
     "end_time": "2021-08-24T18:53:12.028382",
     "exception": false,
     "start_time": "2021-08-24T18:53:12.004450",
     "status": "completed"
    },
    "tags": []
   },
   "outputs": [
    {
     "data": {
      "text/plain": [
       "((270000, 24), (30000, 24))"
      ]
     },
     "execution_count": 8,
     "metadata": {},
     "output_type": "execute_result"
    }
   ],
   "source": [
    "#X.shape\n",
    "X_train.shape, X_valid.shape\n"
   ]
  },
  {
   "cell_type": "markdown",
   "id": "inclusive-deviation",
   "metadata": {
    "papermill": {
     "duration": 0.017481,
     "end_time": "2021-08-24T18:53:12.063686",
     "exception": false,
     "start_time": "2021-08-24T18:53:12.046205",
     "status": "completed"
    },
    "tags": []
   },
   "source": [
    "## Base Line predict with mean\n",
    "\n",
    "We need to do at least better than average prediction to show our model have learnt something"
   ]
  },
  {
   "cell_type": "code",
   "execution_count": 9,
   "id": "formed-christopher",
   "metadata": {
    "execution": {
     "iopub.execute_input": "2021-08-24T18:53:12.103506Z",
     "iopub.status.busy": "2021-08-24T18:53:12.102534Z",
     "iopub.status.idle": "2021-08-24T18:53:12.113185Z",
     "shell.execute_reply": "2021-08-24T18:53:12.113698Z",
     "shell.execute_reply.started": "2021-08-24T18:39:33.564903Z"
    },
    "papermill": {
     "duration": 0.032498,
     "end_time": "2021-08-24T18:53:12.113837",
     "exception": false,
     "start_time": "2021-08-24T18:53:12.081339",
     "status": "completed"
    },
    "tags": []
   },
   "outputs": [
    {
     "data": {
      "text/plain": [
       "0.7493779910473699"
      ]
     },
     "execution_count": 9,
     "metadata": {},
     "output_type": "execute_result"
    }
   ],
   "source": [
    "from sklearn.metrics import mean_squared_error\n",
    "\n",
    "y_base = np.array([y_train.mean()]*y_valid.shape[0])\n",
    "mean_squared_error(y_valid, y_base, squared=False)"
   ]
  },
  {
   "cell_type": "markdown",
   "id": "encouraging-socket",
   "metadata": {
    "papermill": {
     "duration": 0.016825,
     "end_time": "2021-08-24T18:53:12.148605",
     "exception": false,
     "start_time": "2021-08-24T18:53:12.131780",
     "status": "completed"
    },
    "tags": []
   },
   "source": [
    "# Train a model\n",
    "\n",
    "## We use XGBoost without tuning"
   ]
  },
  {
   "cell_type": "code",
   "execution_count": 10,
   "id": "developmental-sussex",
   "metadata": {
    "execution": {
     "iopub.execute_input": "2021-08-24T18:53:12.189278Z",
     "iopub.status.busy": "2021-08-24T18:53:12.188425Z",
     "iopub.status.idle": "2021-08-24T18:53:16.641514Z",
     "shell.execute_reply": "2021-08-24T18:53:16.640860Z",
     "shell.execute_reply.started": "2021-08-24T18:41:19.377229Z"
    },
    "papermill": {
     "duration": 4.475475,
     "end_time": "2021-08-24T18:53:16.641687",
     "exception": false,
     "start_time": "2021-08-24T18:53:12.166212",
     "status": "completed"
    },
    "tags": []
   },
   "outputs": [
    {
     "name": "stdout",
     "output_type": "stream",
     "text": [
      "0.7239452579203953\n"
     ]
    }
   ],
   "source": [
    "# Define the model \n",
    "model = XGBRegressor(tree_method='gpu_hist', gpu_id=0, n_estimators=1000, n_jobs=-1, max_depth=3)\n",
    "\n",
    "# Train the model \n",
    "model.fit(X_train, y_train)\n",
    "preds_valid = model.predict(X_valid)\n",
    "print(mean_squared_error(y_valid, preds_valid, squared=False))\n",
    "\n",
    "#squared=False to get the root mean squared error (RMSE) on the validation data.\n"
   ]
  },
  {
   "cell_type": "code",
   "execution_count": 11,
   "id": "ignored-criminal",
   "metadata": {
    "execution": {
     "iopub.execute_input": "2021-08-24T18:53:16.685109Z",
     "iopub.status.busy": "2021-08-24T18:53:16.683522Z",
     "iopub.status.idle": "2021-08-24T18:53:16.909869Z",
     "shell.execute_reply": "2021-08-24T18:53:16.910871Z",
     "shell.execute_reply.started": "2021-08-24T18:41:30.102397Z"
    },
    "papermill": {
     "duration": 0.249574,
     "end_time": "2021-08-24T18:53:16.911056",
     "exception": false,
     "start_time": "2021-08-24T18:53:16.661482",
     "status": "completed"
    },
    "tags": []
   },
   "outputs": [
    {
     "data": {
      "text/plain": [
       "0.06672145379262917"
      ]
     },
     "execution_count": 11,
     "metadata": {},
     "output_type": "execute_result"
    }
   ],
   "source": [
    "# get R^2 to see how well our model explains variance in Y \n",
    "model.score(X_valid, y_valid, sample_weight=None)"
   ]
  },
  {
   "cell_type": "markdown",
   "id": "olive-surveillance",
   "metadata": {
    "papermill": {
     "duration": 0.019817,
     "end_time": "2021-08-24T18:53:16.952834",
     "exception": false,
     "start_time": "2021-08-24T18:53:16.933017",
     "status": "completed"
    },
    "tags": []
   },
   "source": [
    "# Tuning model with Optuna"
   ]
  },
  {
   "cell_type": "code",
   "execution_count": 12,
   "id": "indian-sterling",
   "metadata": {
    "execution": {
     "iopub.execute_input": "2021-08-24T18:53:16.999542Z",
     "iopub.status.busy": "2021-08-24T18:53:16.998156Z",
     "iopub.status.idle": "2021-08-24T18:54:06.072901Z",
     "shell.execute_reply": "2021-08-24T18:54:06.073711Z",
     "shell.execute_reply.started": "2021-08-24T18:41:54.105726Z"
    },
    "papermill": {
     "duration": 49.102524,
     "end_time": "2021-08-24T18:54:06.073900",
     "exception": false,
     "start_time": "2021-08-24T18:53:16.971376",
     "status": "completed"
    },
    "tags": []
   },
   "outputs": [
    {
     "name": "stderr",
     "output_type": "stream",
     "text": [
      "\u001b[32m[I 2021-08-24 18:53:16,996]\u001b[0m A new study created in memory with name: no-name-52bc7373-384b-42e6-9c6e-a80fd1a323c5\u001b[0m\n",
      "\u001b[32m[I 2021-08-24 18:53:25,533]\u001b[0m Trial 0 finished with value: 0.7219207230819289 and parameters: {'max_depth': 2, 'n_estimators': 4800, 'learning_rate': 0.07140376527798377}. Best is trial 0 with value: 0.7219207230819289.\u001b[0m\n",
      "\u001b[32m[I 2021-08-24 18:53:33,382]\u001b[0m Trial 1 finished with value: 0.723596923928488 and parameters: {'max_depth': 2, 'n_estimators': 4760, 'learning_rate': 0.03133285003623962}. Best is trial 0 with value: 0.7219207230819289.\u001b[0m\n",
      "\u001b[32m[I 2021-08-24 18:53:38,316]\u001b[0m Trial 2 finished with value: 7.738025280362785 and parameters: {'max_depth': 1, 'n_estimators': 3945, 'learning_rate': 1.3676708165613131e-06}. Best is trial 0 with value: 0.7219207230819289.\u001b[0m\n",
      "\u001b[32m[I 2021-08-24 18:53:43,432]\u001b[0m Trial 3 finished with value: 0.745749538010738 and parameters: {'max_depth': 4, 'n_estimators': 1704, 'learning_rate': 0.002476504872382617}. Best is trial 0 with value: 0.7219207230819289.\u001b[0m\n",
      "\u001b[32m[I 2021-08-24 18:53:48,892]\u001b[0m Trial 4 finished with value: 7.739135626480287 and parameters: {'max_depth': 1, 'n_estimators': 4410, 'learning_rate': 1.1902889197821549e-06}. Best is trial 0 with value: 0.7219207230819289.\u001b[0m\n",
      "\u001b[32m[I 2021-08-24 18:53:52,402]\u001b[0m Trial 5 finished with value: 7.737373099425497 and parameters: {'max_depth': 3, 'n_estimators': 1493, 'learning_rate': 3.670280344388309e-06}. Best is trial 0 with value: 0.7219207230819289.\u001b[0m\n",
      "\u001b[32m[I 2021-08-24 18:53:57,159]\u001b[0m Trial 6 finished with value: 3.219765225250111 and parameters: {'max_depth': 2, 'n_estimators': 2719, 'learning_rate': 0.00033292294046777926}. Best is trial 0 with value: 0.7219207230819289.\u001b[0m\n",
      "\u001b[32m[I 2021-08-24 18:54:00,119]\u001b[0m Trial 7 finished with value: 7.751239667884206 and parameters: {'max_depth': 2, 'n_estimators': 1654, 'learning_rate': 2.220154090016757e-06}. Best is trial 0 with value: 0.7219207230819289.\u001b[0m\n",
      "\u001b[32m[I 2021-08-24 18:54:02,637]\u001b[0m Trial 8 finished with value: 0.7348044548688817 and parameters: {'max_depth': 3, 'n_estimators': 1108, 'learning_rate': 0.007974019986915291}. Best is trial 0 with value: 0.7219207230819289.\u001b[0m\n",
      "\u001b[32m[I 2021-08-24 18:54:06,066]\u001b[0m Trial 9 finished with value: 3.0298111607200977 and parameters: {'max_depth': 3, 'n_estimators': 1485, 'learning_rate': 0.0006528466931956452}. Best is trial 0 with value: 0.7219207230819289.\u001b[0m\n"
     ]
    }
   ],
   "source": [
    "import optuna\n",
    "\n",
    "def objective(trial):\n",
    "    \n",
    "    max_depth = trial.suggest_int(\"max_depth\", 1, 4, step=1)\n",
    "    #max_features = trial.suggest_float(\"max_features\", 0.5, 1.0, step=0.1)\n",
    "    n_estimators = trial.suggest_int(\"n_estimators\", 1000, 5000)\n",
    "    learning_rate = trial.suggest_float(\"learning_rate\", 1e-6, 1e-1, log=True)\n",
    "    \n",
    "    model = XGBRegressor(\n",
    "        n_estimators=n_estimators,\n",
    "        max_depth=max_depth,\n",
    "        learning_rate=learning_rate,\n",
    "        n_jobs=-1, \n",
    "        tree_method='gpu_hist', \n",
    "        gpu_id=0\n",
    "    )\n",
    "    \n",
    "    model.fit(X_train, y_train)\n",
    "    \n",
    "    y_hat = model.predict(X_valid)\n",
    "    \n",
    "    return mean_squared_error(y_valid, y_hat, squared=False)\n",
    "\n",
    "study = optuna.create_study()\n",
    "study.optimize(objective, n_trials=10)"
   ]
  },
  {
   "cell_type": "code",
   "execution_count": 13,
   "id": "radio-romance",
   "metadata": {
    "execution": {
     "iopub.execute_input": "2021-08-24T18:54:06.123143Z",
     "iopub.status.busy": "2021-08-24T18:54:06.122490Z",
     "iopub.status.idle": "2021-08-24T18:54:06.125082Z",
     "shell.execute_reply": "2021-08-24T18:54:06.125471Z",
     "shell.execute_reply.started": "2021-08-24T18:24:40.379949Z"
    },
    "papermill": {
     "duration": 0.028732,
     "end_time": "2021-08-24T18:54:06.125590",
     "exception": false,
     "start_time": "2021-08-24T18:54:06.096858",
     "status": "completed"
    },
    "tags": []
   },
   "outputs": [
    {
     "data": {
      "text/plain": [
       "{'max_depth': 2, 'n_estimators': 4800, 'learning_rate': 0.07140376527798377}"
      ]
     },
     "execution_count": 13,
     "metadata": {},
     "output_type": "execute_result"
    }
   ],
   "source": [
    "study.best_params"
   ]
  },
  {
   "cell_type": "markdown",
   "id": "bulgarian-terminal",
   "metadata": {
    "papermill": {
     "duration": 0.020704,
     "end_time": "2021-08-24T18:54:06.167081",
     "exception": false,
     "start_time": "2021-08-24T18:54:06.146377",
     "status": "completed"
    },
    "tags": []
   },
   "source": [
    "## Make prediction with our tuned parameters \n",
    "#### max_depth, max_features, n_estimators, learning_rate\n",
    "#### "
   ]
  },
  {
   "cell_type": "code",
   "execution_count": 14,
   "id": "russian-tissue",
   "metadata": {
    "execution": {
     "iopub.execute_input": "2021-08-24T18:54:06.217646Z",
     "iopub.status.busy": "2021-08-24T18:54:06.216958Z",
     "iopub.status.idle": "2021-08-24T18:56:10.629876Z",
     "shell.execute_reply": "2021-08-24T18:56:10.630603Z",
     "shell.execute_reply.started": "2021-08-24T18:48:48.186133Z"
    },
    "papermill": {
     "duration": 124.442586,
     "end_time": "2021-08-24T18:56:10.630851",
     "exception": false,
     "start_time": "2021-08-24T18:54:06.188265",
     "status": "completed"
    },
    "tags": []
   },
   "outputs": [
    {
     "name": "stdout",
     "output_type": "stream",
     "text": [
      "Loss:0.717751979116756 Base Mean Loss: 0.7462870202272216\n",
      "Loss:0.7175909353224862 Base Mean Loss: 0.7451347014249293\n",
      "Loss:0.7165713917785491 Base Mean Loss: 0.7441990658246511\n",
      "Loss:0.7189310127201124 Base Mean Loss: 0.7472687426494818\n",
      "Loss:0.7230333806536509 Base Mean Loss: 0.7516205131341572\n",
      "Loss:0.7160398916978102 Base Mean Loss: 0.7419121734251948\n",
      "Loss:0.7191684499109422 Base Mean Loss: 0.7471023148344271\n",
      "Loss:0.7197796148215471 Base Mean Loss: 0.7466291069363629\n",
      "Loss:0.721601893390442 Base Mean Loss: 0.7508867861650506\n",
      "Loss:0.7144515940448815 Base Mean Loss: 0.7444884649561769\n",
      "Avg. Loss: 0.7184920143457177\n"
     ]
    }
   ],
   "source": [
    "from sklearn.model_selection import KFold\n",
    "\n",
    "best_params =  study.best_params  \n",
    "final_pred = []\n",
    "total_loss = 0\n",
    "\n",
    "kfold = KFold(n_splits=10, shuffle=True, random_state=42)\n",
    "\n",
    "# now use kfold to go through this set a number of times using our best params\n",
    "for train_indx, val_indx in kfold.split(X):\n",
    "    X_train, X_val = X.iloc[train_indx], X.iloc[val_indx] \n",
    "    y_train, y_val = y.iloc[train_indx], y.iloc[val_indx]\n",
    "        \n",
    "    model_final = XGBRegressor(tree_method='gpu_hist', \n",
    "                                 gpu_id=0, \n",
    "                                 **best_params)\n",
    "    \n",
    "    model_final.fit(X_train, y_train)   \n",
    "    \n",
    "    y_hat = model_final.predict(X_val)\n",
    "    score = mean_squared_error(y_hat, y_val, squared=False)\n",
    "    \n",
    "    #compare against mean\n",
    "    y_base = np.array([y_train.mean()]*y_val.shape[0])\n",
    "    score_base = mean_squared_error(y_val, y_base, squared=False)\n",
    "    \n",
    "    print(f\"Loss:{score} Base Mean Loss: {score_base}\")\n",
    "    total_loss += score\n",
    "    final_pred.append(model_final.predict(X_final))  #we predict use full test set based on this trained model\n",
    "    \n",
    "print(f\"Avg. Loss: {total_loss/kfold.get_n_splits()}\")  "
   ]
  },
  {
   "cell_type": "code",
   "execution_count": 15,
   "id": "rising-prerequisite",
   "metadata": {
    "execution": {
     "iopub.execute_input": "2021-08-24T18:56:10.688139Z",
     "iopub.status.busy": "2021-08-24T18:56:10.687031Z",
     "iopub.status.idle": "2021-08-24T18:56:10.699822Z",
     "shell.execute_reply": "2021-08-24T18:56:10.699357Z",
     "shell.execute_reply.started": "2021-08-24T18:52:17.595757Z"
    },
    "papermill": {
     "duration": 0.04118,
     "end_time": "2021-08-24T18:56:10.699940",
     "exception": false,
     "start_time": "2021-08-24T18:56:10.658760",
     "status": "completed"
    },
    "tags": []
   },
   "outputs": [
    {
     "data": {
      "text/plain": [
       "(200000,)"
      ]
     },
     "execution_count": 15,
     "metadata": {},
     "output_type": "execute_result"
    }
   ],
   "source": [
    "\n",
    "predictions = np.mean(np.column_stack(final_pred), axis=1)\n",
    "predictions.shape"
   ]
  },
  {
   "cell_type": "code",
   "execution_count": 16,
   "id": "searching-turning",
   "metadata": {
    "execution": {
     "iopub.execute_input": "2021-08-24T18:56:10.750963Z",
     "iopub.status.busy": "2021-08-24T18:56:10.750435Z",
     "iopub.status.idle": "2021-08-24T18:56:10.754156Z",
     "shell.execute_reply": "2021-08-24T18:56:10.753752Z",
     "shell.execute_reply.started": "2021-08-24T14:54:19.607336Z"
    },
    "papermill": {
     "duration": 0.030425,
     "end_time": "2021-08-24T18:56:10.754260",
     "exception": false,
     "start_time": "2021-08-24T18:56:10.723835",
     "status": "completed"
    },
    "tags": []
   },
   "outputs": [],
   "source": [
    "# score = mean_squared_error(predictions, y, squared=False)\n",
    "# print(f\"Loss:{score}\")"
   ]
  },
  {
   "cell_type": "markdown",
   "id": "metric-combining",
   "metadata": {
    "papermill": {
     "duration": 0.02441,
     "end_time": "2021-08-24T18:56:10.802576",
     "exception": false,
     "start_time": "2021-08-24T18:56:10.778166",
     "status": "completed"
    },
    "tags": []
   },
   "source": [
    "# Submit to the competition\n"
   ]
  },
  {
   "cell_type": "code",
   "execution_count": 17,
   "id": "wrapped-devices",
   "metadata": {
    "execution": {
     "iopub.execute_input": "2021-08-24T18:56:10.855599Z",
     "iopub.status.busy": "2021-08-24T18:56:10.855044Z",
     "iopub.status.idle": "2021-08-24T18:56:11.530515Z",
     "shell.execute_reply": "2021-08-24T18:56:11.530055Z",
     "shell.execute_reply.started": "2021-08-24T18:52:34.386521Z"
    },
    "papermill": {
     "duration": 0.703953,
     "end_time": "2021-08-24T18:56:11.530643",
     "exception": false,
     "start_time": "2021-08-24T18:56:10.826690",
     "status": "completed"
    },
    "tags": []
   },
   "outputs": [],
   "source": [
    "# Save the predictions to a CSV file\n",
    "output = pd.DataFrame({'Id': X_final.index,\n",
    "                       'target': predictions})\n",
    "output.to_csv('submission.csv', index=False)"
   ]
  }
 ],
 "metadata": {
  "kernelspec": {
   "display_name": "Python 3",
   "language": "python",
   "name": "python3"
  },
  "language_info": {
   "codemirror_mode": {
    "name": "ipython",
    "version": 3
   },
   "file_extension": ".py",
   "mimetype": "text/x-python",
   "name": "python",
   "nbconvert_exporter": "python",
   "pygments_lexer": "ipython3",
   "version": "3.7.10"
  },
  "papermill": {
   "default_parameters": {},
   "duration": 199.737511,
   "end_time": "2021-08-24T18:56:13.339684",
   "environment_variables": {},
   "exception": null,
   "input_path": "__notebook__.ipynb",
   "output_path": "__notebook__.ipynb",
   "parameters": {},
   "start_time": "2021-08-24T18:52:53.602173",
   "version": "2.3.3"
  }
 },
 "nbformat": 4,
 "nbformat_minor": 5
}
