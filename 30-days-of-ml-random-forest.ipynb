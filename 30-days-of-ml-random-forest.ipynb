{
 "cells": [
  {
   "cell_type": "code",
   "execution_count": 1,
   "id": "danish-prior",
   "metadata": {
    "execution": {
     "iopub.execute_input": "2021-08-24T15:03:25.999020Z",
     "iopub.status.busy": "2021-08-24T15:03:25.996391Z",
     "iopub.status.idle": "2021-08-24T15:03:27.110224Z",
     "shell.execute_reply": "2021-08-24T15:03:27.109209Z",
     "shell.execute_reply.started": "2021-08-24T14:48:34.73723Z"
    },
    "papermill": {
     "duration": 1.156895,
     "end_time": "2021-08-24T15:03:27.110385",
     "exception": false,
     "start_time": "2021-08-24T15:03:25.953490",
     "status": "completed"
    },
    "tags": []
   },
   "outputs": [],
   "source": [
    "# Familiar imports\n",
    "import numpy as np\n",
    "import pandas as pd\n",
    "#import pandas_profiling as pp\n",
    "\n",
    "\n",
    "# For ordinal encoding categorical variables, splitting data\n",
    "from sklearn.preprocessing import OrdinalEncoder\n",
    "from sklearn.model_selection import train_test_split\n",
    "#from sklearn.impute import SimpleImputer\n",
    "\n",
    "# For training random forest model\n",
    "from sklearn.ensemble import RandomForestRegressor\n",
    "from sklearn.metrics import mean_squared_error"
   ]
  },
  {
   "cell_type": "markdown",
   "id": "successful-bishop",
   "metadata": {
    "papermill": {
     "duration": 0.015715,
     "end_time": "2021-08-24T15:03:27.142423",
     "exception": false,
     "start_time": "2021-08-24T15:03:27.126708",
     "status": "completed"
    },
    "tags": []
   },
   "source": [
    "# Functions for EDA - Exploratory Data Analysis"
   ]
  },
  {
   "cell_type": "code",
   "execution_count": 2,
   "id": "soviet-synthesis",
   "metadata": {
    "execution": {
     "iopub.execute_input": "2021-08-24T15:03:27.187836Z",
     "iopub.status.busy": "2021-08-24T15:03:27.186564Z",
     "iopub.status.idle": "2021-08-24T15:03:27.188929Z",
     "shell.execute_reply": "2021-08-24T15:03:27.189390Z",
     "shell.execute_reply.started": "2021-08-24T14:48:45.576954Z"
    },
    "papermill": {
     "duration": 0.031273,
     "end_time": "2021-08-24T15:03:27.189551",
     "exception": false,
     "start_time": "2021-08-24T15:03:27.158278",
     "status": "completed"
    },
    "tags": []
   },
   "outputs": [],
   "source": [
    "# Create a function that we can re-use\n",
    "def show_distribution(var_data):\n",
    "    from matplotlib import pyplot as plt\n",
    "\n",
    "    # Get statistics\n",
    "    min_val = var_data.min()\n",
    "    max_val = var_data.max()\n",
    "    mean_val = var_data.mean()\n",
    "    med_val = var_data.median()\n",
    "    mod_val = var_data.mode()[0]\n",
    "\n",
    "    print('Minimum:{:.2f}\\nMean:{:.2f}\\nMedian:{:.2f}\\nMode:{:.2f}\\nMaximum:{:.2f}\\n'.format(min_val,\n",
    "                                                                                            mean_val,\n",
    "                                                                                            med_val,\n",
    "                                                                                            mod_val,\n",
    "                                                                                            max_val))\n",
    "\n",
    "    # Create a figure for 2 subplots (2 rows, 1 column)\n",
    "    fig, ax = plt.subplots(2, 1, figsize = (10,4))\n",
    "\n",
    "    # Plot the histogram   \n",
    "    ax[0].hist(var_data)\n",
    "    ax[0].set_ylabel('Frequency')\n",
    "\n",
    "    # Add lines for the mean, median, and mode\n",
    "    ax[0].axvline(x=min_val, color = 'gray', linestyle='dashed', linewidth = 2)\n",
    "    ax[0].axvline(x=mean_val, color = 'cyan', linestyle='dashed', linewidth = 2)\n",
    "    ax[0].axvline(x=med_val, color = 'red', linestyle='dashed', linewidth = 2)\n",
    "    ax[0].axvline(x=mod_val, color = 'yellow', linestyle='dashed', linewidth = 2)\n",
    "    ax[0].axvline(x=max_val, color = 'gray', linestyle='dashed', linewidth = 2)\n",
    "\n",
    "    # Plot the boxplot   \n",
    "    ax[1].boxplot(var_data, vert=False)\n",
    "    ax[1].set_xlabel('Value')\n",
    "\n",
    "    # Add a title to the Figure\n",
    "    fig.suptitle('Data Distribution')\n",
    "\n",
    "    # Show the figure\n",
    "    plt.show()\n",
    "\n",
    "def show_density(var_data):\n",
    "    from matplotlib import pyplot as plt\n",
    "\n",
    "    mean_val = var_data.mean()\n",
    "    med_val = var_data.median()\n",
    "    mod_val = var_data.mode()[0]\n",
    "\n",
    "    print('Mean:{:.2f}\\nMedian:{:.2f}\\nMode:{:.2f}\\n'.format(mean_val, med_val, mod_val))\n",
    "\n",
    "    fig = plt.figure(figsize=(10,4))\n",
    "\n",
    "    # Plot density\n",
    "    var_data.plot.density()\n",
    "\n",
    "    # Add titles and labels\n",
    "    plt.title('Data Density')\n",
    "\n",
    "    # Show the mean, median, and mode\n",
    "    plt.axvline(x=var_data.mean(), color = 'cyan', linestyle='dashed', linewidth = 2)\n",
    "    plt.axvline(x=var_data.median(), color = 'red', linestyle='dashed', linewidth = 2)\n",
    "    plt.axvline(x=var_data.mode()[0], color = 'yellow', linestyle='dashed', linewidth = 2)\n",
    "\n",
    "    # Show the figure\n",
    "    plt.show()"
   ]
  },
  {
   "cell_type": "markdown",
   "id": "frozen-flesh",
   "metadata": {
    "papermill": {
     "duration": 0.015645,
     "end_time": "2021-08-24T15:03:27.220865",
     "exception": false,
     "start_time": "2021-08-24T15:03:27.205220",
     "status": "completed"
    },
    "tags": []
   },
   "source": [
    "# Load the data\n",
    "\n",
    "Next, we'll load the training and test data.  \n",
    "\n",
    "We set `index_col=0` in the code cell below to use the `id` column to index the DataFrame.  (*If you're not sure how this works, try temporarily removing `index_col=0` and see how it changes the result.*)"
   ]
  },
  {
   "cell_type": "code",
   "execution_count": 3,
   "id": "stunning-elder",
   "metadata": {
    "execution": {
     "iopub.execute_input": "2021-08-24T15:03:27.257917Z",
     "iopub.status.busy": "2021-08-24T15:03:27.257359Z",
     "iopub.status.idle": "2021-08-24T15:03:30.679287Z",
     "shell.execute_reply": "2021-08-24T15:03:30.678817Z",
     "shell.execute_reply.started": "2021-08-24T14:49:09.100534Z"
    },
    "papermill": {
     "duration": 3.442927,
     "end_time": "2021-08-24T15:03:30.679448",
     "exception": false,
     "start_time": "2021-08-24T15:03:27.236521",
     "status": "completed"
    },
    "tags": []
   },
   "outputs": [
    {
     "data": {
      "text/html": [
       "<div>\n",
       "<style scoped>\n",
       "    .dataframe tbody tr th:only-of-type {\n",
       "        vertical-align: middle;\n",
       "    }\n",
       "\n",
       "    .dataframe tbody tr th {\n",
       "        vertical-align: top;\n",
       "    }\n",
       "\n",
       "    .dataframe thead th {\n",
       "        text-align: right;\n",
       "    }\n",
       "</style>\n",
       "<table border=\"1\" class=\"dataframe\">\n",
       "  <thead>\n",
       "    <tr style=\"text-align: right;\">\n",
       "      <th></th>\n",
       "      <th>cat0</th>\n",
       "      <th>cat1</th>\n",
       "      <th>cat2</th>\n",
       "      <th>cat3</th>\n",
       "      <th>cat4</th>\n",
       "      <th>cat5</th>\n",
       "      <th>cat6</th>\n",
       "      <th>cat7</th>\n",
       "      <th>cat8</th>\n",
       "      <th>cat9</th>\n",
       "      <th>...</th>\n",
       "      <th>cont5</th>\n",
       "      <th>cont6</th>\n",
       "      <th>cont7</th>\n",
       "      <th>cont8</th>\n",
       "      <th>cont9</th>\n",
       "      <th>cont10</th>\n",
       "      <th>cont11</th>\n",
       "      <th>cont12</th>\n",
       "      <th>cont13</th>\n",
       "      <th>target</th>\n",
       "    </tr>\n",
       "  </thead>\n",
       "  <tbody>\n",
       "    <tr>\n",
       "      <th>0</th>\n",
       "      <td>B</td>\n",
       "      <td>B</td>\n",
       "      <td>B</td>\n",
       "      <td>C</td>\n",
       "      <td>B</td>\n",
       "      <td>B</td>\n",
       "      <td>A</td>\n",
       "      <td>E</td>\n",
       "      <td>C</td>\n",
       "      <td>N</td>\n",
       "      <td>...</td>\n",
       "      <td>0.400361</td>\n",
       "      <td>0.160266</td>\n",
       "      <td>0.310921</td>\n",
       "      <td>0.389470</td>\n",
       "      <td>0.267559</td>\n",
       "      <td>0.237281</td>\n",
       "      <td>0.377873</td>\n",
       "      <td>0.322401</td>\n",
       "      <td>0.869850</td>\n",
       "      <td>8.113634</td>\n",
       "    </tr>\n",
       "    <tr>\n",
       "      <th>1</th>\n",
       "      <td>B</td>\n",
       "      <td>B</td>\n",
       "      <td>A</td>\n",
       "      <td>A</td>\n",
       "      <td>B</td>\n",
       "      <td>D</td>\n",
       "      <td>A</td>\n",
       "      <td>F</td>\n",
       "      <td>A</td>\n",
       "      <td>O</td>\n",
       "      <td>...</td>\n",
       "      <td>0.533087</td>\n",
       "      <td>0.558922</td>\n",
       "      <td>0.516294</td>\n",
       "      <td>0.594928</td>\n",
       "      <td>0.341439</td>\n",
       "      <td>0.906013</td>\n",
       "      <td>0.921701</td>\n",
       "      <td>0.261975</td>\n",
       "      <td>0.465083</td>\n",
       "      <td>8.481233</td>\n",
       "    </tr>\n",
       "    <tr>\n",
       "      <th>2</th>\n",
       "      <td>A</td>\n",
       "      <td>A</td>\n",
       "      <td>A</td>\n",
       "      <td>C</td>\n",
       "      <td>B</td>\n",
       "      <td>D</td>\n",
       "      <td>A</td>\n",
       "      <td>D</td>\n",
       "      <td>A</td>\n",
       "      <td>F</td>\n",
       "      <td>...</td>\n",
       "      <td>0.650609</td>\n",
       "      <td>0.375348</td>\n",
       "      <td>0.902567</td>\n",
       "      <td>0.555205</td>\n",
       "      <td>0.843531</td>\n",
       "      <td>0.748809</td>\n",
       "      <td>0.620126</td>\n",
       "      <td>0.541474</td>\n",
       "      <td>0.763846</td>\n",
       "      <td>8.364351</td>\n",
       "    </tr>\n",
       "    <tr>\n",
       "      <th>3</th>\n",
       "      <td>B</td>\n",
       "      <td>B</td>\n",
       "      <td>A</td>\n",
       "      <td>C</td>\n",
       "      <td>B</td>\n",
       "      <td>D</td>\n",
       "      <td>A</td>\n",
       "      <td>E</td>\n",
       "      <td>C</td>\n",
       "      <td>K</td>\n",
       "      <td>...</td>\n",
       "      <td>0.668980</td>\n",
       "      <td>0.239061</td>\n",
       "      <td>0.732948</td>\n",
       "      <td>0.679618</td>\n",
       "      <td>0.574844</td>\n",
       "      <td>0.346010</td>\n",
       "      <td>0.714610</td>\n",
       "      <td>0.540150</td>\n",
       "      <td>0.280682</td>\n",
       "      <td>8.049253</td>\n",
       "    </tr>\n",
       "    <tr>\n",
       "      <th>4</th>\n",
       "      <td>A</td>\n",
       "      <td>A</td>\n",
       "      <td>A</td>\n",
       "      <td>C</td>\n",
       "      <td>B</td>\n",
       "      <td>D</td>\n",
       "      <td>A</td>\n",
       "      <td>E</td>\n",
       "      <td>A</td>\n",
       "      <td>N</td>\n",
       "      <td>...</td>\n",
       "      <td>0.686964</td>\n",
       "      <td>0.420667</td>\n",
       "      <td>0.648182</td>\n",
       "      <td>0.684501</td>\n",
       "      <td>0.956692</td>\n",
       "      <td>1.000773</td>\n",
       "      <td>0.776742</td>\n",
       "      <td>0.625849</td>\n",
       "      <td>0.250823</td>\n",
       "      <td>7.972260</td>\n",
       "    </tr>\n",
       "  </tbody>\n",
       "</table>\n",
       "<p>5 rows × 25 columns</p>\n",
       "</div>"
      ],
      "text/plain": [
       "  cat0 cat1 cat2 cat3 cat4 cat5 cat6 cat7 cat8 cat9  ...     cont5     cont6  \\\n",
       "0    B    B    B    C    B    B    A    E    C    N  ...  0.400361  0.160266   \n",
       "1    B    B    A    A    B    D    A    F    A    O  ...  0.533087  0.558922   \n",
       "2    A    A    A    C    B    D    A    D    A    F  ...  0.650609  0.375348   \n",
       "3    B    B    A    C    B    D    A    E    C    K  ...  0.668980  0.239061   \n",
       "4    A    A    A    C    B    D    A    E    A    N  ...  0.686964  0.420667   \n",
       "\n",
       "      cont7     cont8     cont9    cont10    cont11    cont12    cont13  \\\n",
       "0  0.310921  0.389470  0.267559  0.237281  0.377873  0.322401  0.869850   \n",
       "1  0.516294  0.594928  0.341439  0.906013  0.921701  0.261975  0.465083   \n",
       "2  0.902567  0.555205  0.843531  0.748809  0.620126  0.541474  0.763846   \n",
       "3  0.732948  0.679618  0.574844  0.346010  0.714610  0.540150  0.280682   \n",
       "4  0.648182  0.684501  0.956692  1.000773  0.776742  0.625849  0.250823   \n",
       "\n",
       "     target  \n",
       "0  8.113634  \n",
       "1  8.481233  \n",
       "2  8.364351  \n",
       "3  8.049253  \n",
       "4  7.972260  \n",
       "\n",
       "[5 rows x 25 columns]"
      ]
     },
     "execution_count": 3,
     "metadata": {},
     "output_type": "execute_result"
    }
   ],
   "source": [
    "# Load the training data\n",
    "train = pd.read_csv(\"../input/30-days-of-ml/train.csv\") #, index_col=0)\n",
    "test = pd.read_csv(\"../input/30-days-of-ml/test.csv\",index_col=0)\n",
    "\n",
    "train.drop(\"id\", axis=1, inplace=True)\n",
    "#test.drop(\"id\", axis=1, inplace=True)\n",
    "\n",
    "# Preview the data\n",
    "train.head()"
   ]
  },
  {
   "cell_type": "markdown",
   "id": "voluntary-wales",
   "metadata": {
    "papermill": {
     "duration": 0.016905,
     "end_time": "2021-08-24T15:03:30.715242",
     "exception": false,
     "start_time": "2021-08-24T15:03:30.698337",
     "status": "completed"
    },
    "tags": []
   },
   "source": [
    "The next code cell separates the target (which we assign to `y`) from the training features (which we assign to `features`)."
   ]
  },
  {
   "cell_type": "code",
   "execution_count": 4,
   "id": "scheduled-coast",
   "metadata": {
    "execution": {
     "iopub.execute_input": "2021-08-24T15:03:30.753683Z",
     "iopub.status.busy": "2021-08-24T15:03:30.752997Z",
     "iopub.status.idle": "2021-08-24T15:03:30.789343Z",
     "shell.execute_reply": "2021-08-24T15:03:30.788871Z",
     "shell.execute_reply.started": "2021-08-24T14:49:39.188932Z"
    },
    "papermill": {
     "duration": 0.057368,
     "end_time": "2021-08-24T15:03:30.789489",
     "exception": false,
     "start_time": "2021-08-24T15:03:30.732121",
     "status": "completed"
    },
    "tags": []
   },
   "outputs": [],
   "source": [
    "# Separate target from features\n",
    "y = train['target']\n",
    "features = train.drop(['target'], axis=1)\n",
    "\n",
    "\n",
    "# Preview features\n",
    "#features.head()"
   ]
  },
  {
   "cell_type": "code",
   "execution_count": 5,
   "id": "spare-resolution",
   "metadata": {
    "execution": {
     "iopub.execute_input": "2021-08-24T15:03:30.827876Z",
     "iopub.status.busy": "2021-08-24T15:03:30.827323Z",
     "iopub.status.idle": "2021-08-24T15:03:30.830465Z",
     "shell.execute_reply": "2021-08-24T15:03:30.831291Z",
     "shell.execute_reply.started": "2021-08-24T14:49:43.337017Z"
    },
    "papermill": {
     "duration": 0.024686,
     "end_time": "2021-08-24T15:03:30.831441",
     "exception": false,
     "start_time": "2021-08-24T15:03:30.806755",
     "status": "completed"
    },
    "tags": []
   },
   "outputs": [],
   "source": [
    "# let's zoom in on our y variable\n",
    "cont_cols = [col for col in features.columns if 'cont' in col]\n",
    "cat_cols = [col for col in features.columns if 'cat' in col]\n",
    "\n",
    "#show_density(y)\n",
    "#show_distribution(y)\n",
    "\n"
   ]
  },
  {
   "cell_type": "markdown",
   "id": "interim-doctrine",
   "metadata": {
    "papermill": {
     "duration": 0.017009,
     "end_time": "2021-08-24T15:03:30.864860",
     "exception": false,
     "start_time": "2021-08-24T15:03:30.847851",
     "status": "completed"
    },
    "tags": []
   },
   "source": [
    "# Prepare the data\n"
   ]
  },
  {
   "cell_type": "code",
   "execution_count": 6,
   "id": "hollywood-sugar",
   "metadata": {
    "execution": {
     "iopub.execute_input": "2021-08-24T15:03:30.905267Z",
     "iopub.status.busy": "2021-08-24T15:03:30.904638Z",
     "iopub.status.idle": "2021-08-24T15:03:37.434119Z",
     "shell.execute_reply": "2021-08-24T15:03:37.433653Z",
     "shell.execute_reply.started": "2021-08-24T14:50:00.637326Z"
    },
    "papermill": {
     "duration": 6.552536,
     "end_time": "2021-08-24T15:03:37.434248",
     "exception": false,
     "start_time": "2021-08-24T15:03:30.881712",
     "status": "completed"
    },
    "tags": []
   },
   "outputs": [],
   "source": [
    "from sklearn.compose import ColumnTransformer\n",
    "from sklearn.pipeline import Pipeline\n",
    "from sklearn.preprocessing import OrdinalEncoder, StandardScaler\n",
    "\n",
    "\n",
    "X = features.copy()\n",
    "X_final = test.copy()\n",
    "\n",
    "transformers = ColumnTransformer(\n",
    "    [(\"ordinary_encoder\", OrdinalEncoder(), cat_cols),\n",
    "     (\"standardize\", StandardScaler(), cont_cols)],    #strictly not necessary for RandomForest\n",
    "    remainder=\"passthrough\"\n",
    ")\n",
    "\n",
    "X[features.columns] = transformers.fit_transform(X[features.columns])\n",
    "\n",
    "X_final[features.columns] = transformers.transform(X_final[features.columns])\n"
   ]
  },
  {
   "cell_type": "markdown",
   "id": "educational-vanilla",
   "metadata": {
    "papermill": {
     "duration": 0.016124,
     "end_time": "2021-08-24T15:03:37.467000",
     "exception": false,
     "start_time": "2021-08-24T15:03:37.450876",
     "status": "completed"
    },
    "tags": []
   },
   "source": [
    "## Next, we break off a validation set from the training data.\n"
   ]
  },
  {
   "cell_type": "code",
   "execution_count": 7,
   "id": "bright-globe",
   "metadata": {
    "execution": {
     "iopub.execute_input": "2021-08-24T15:03:37.506635Z",
     "iopub.status.busy": "2021-08-24T15:03:37.505908Z",
     "iopub.status.idle": "2021-08-24T15:03:37.559628Z",
     "shell.execute_reply": "2021-08-24T15:03:37.560039Z",
     "shell.execute_reply.started": "2021-08-24T14:50:26.815887Z"
    },
    "papermill": {
     "duration": 0.076548,
     "end_time": "2021-08-24T15:03:37.560202",
     "exception": false,
     "start_time": "2021-08-24T15:03:37.483654",
     "status": "completed"
    },
    "tags": []
   },
   "outputs": [],
   "source": [
    "# We want to speed up training so we use sample of 10,000 out of 300,000 which is 3,333%\n",
    "# We can afford to take big validation set because we have enough data so we make it same size as training \n",
    "# Choosing a big validation set will show reality of accuracy of model\n",
    "train_size = 1/30  # 10,000\n",
    "test_size = 1/30   # 10,000\n",
    "X_train, X_valid, y_train, y_valid = train_test_split(X, y, random_state=0, train_size=train_size, test_size=test_size )"
   ]
  },
  {
   "cell_type": "code",
   "execution_count": 8,
   "id": "composite-sandwich",
   "metadata": {
    "execution": {
     "iopub.execute_input": "2021-08-24T15:03:37.597417Z",
     "iopub.status.busy": "2021-08-24T15:03:37.596721Z",
     "iopub.status.idle": "2021-08-24T15:03:37.600187Z",
     "shell.execute_reply": "2021-08-24T15:03:37.599773Z",
     "shell.execute_reply.started": "2021-08-24T14:50:32.064707Z"
    },
    "papermill": {
     "duration": 0.023484,
     "end_time": "2021-08-24T15:03:37.600294",
     "exception": false,
     "start_time": "2021-08-24T15:03:37.576810",
     "status": "completed"
    },
    "tags": []
   },
   "outputs": [
    {
     "data": {
      "text/plain": [
       "((10000, 24), (10000, 24))"
      ]
     },
     "execution_count": 8,
     "metadata": {},
     "output_type": "execute_result"
    }
   ],
   "source": [
    "#X.shape\n",
    "X_train.shape, X_valid.shape\n"
   ]
  },
  {
   "cell_type": "markdown",
   "id": "broad-boston",
   "metadata": {
    "papermill": {
     "duration": 0.016476,
     "end_time": "2021-08-24T15:03:37.633455",
     "exception": false,
     "start_time": "2021-08-24T15:03:37.616979",
     "status": "completed"
    },
    "tags": []
   },
   "source": [
    "## Base Line predict with mean\n",
    "\n",
    "We need to do at least better than average prediction to show our model have learnt something"
   ]
  },
  {
   "cell_type": "code",
   "execution_count": 9,
   "id": "indie-adventure",
   "metadata": {
    "execution": {
     "iopub.execute_input": "2021-08-24T15:03:37.672871Z",
     "iopub.status.busy": "2021-08-24T15:03:37.672125Z",
     "iopub.status.idle": "2021-08-24T15:03:37.677156Z",
     "shell.execute_reply": "2021-08-24T15:03:37.677603Z",
     "shell.execute_reply.started": "2021-08-24T14:50:36.055187Z"
    },
    "papermill": {
     "duration": 0.027619,
     "end_time": "2021-08-24T15:03:37.677719",
     "exception": false,
     "start_time": "2021-08-24T15:03:37.650100",
     "status": "completed"
    },
    "tags": []
   },
   "outputs": [
    {
     "data": {
      "text/plain": [
       "0.7403795279628655"
      ]
     },
     "execution_count": 9,
     "metadata": {},
     "output_type": "execute_result"
    }
   ],
   "source": [
    "from sklearn.metrics import mean_squared_error\n",
    "\n",
    "y_base = np.array([y_train.mean()]*y_valid.shape[0])\n",
    "mean_squared_error(y_valid, y_base, squared=False)"
   ]
  },
  {
   "cell_type": "markdown",
   "id": "centered-valve",
   "metadata": {
    "papermill": {
     "duration": 0.01697,
     "end_time": "2021-08-24T15:03:37.712160",
     "exception": false,
     "start_time": "2021-08-24T15:03:37.695190",
     "status": "completed"
    },
    "tags": []
   },
   "source": [
    "# Train a model\n",
    "\n",
    "## We use RandomForest without tuning"
   ]
  },
  {
   "cell_type": "code",
   "execution_count": 10,
   "id": "chronic-journalist",
   "metadata": {
    "execution": {
     "iopub.execute_input": "2021-08-24T15:03:37.752096Z",
     "iopub.status.busy": "2021-08-24T15:03:37.751304Z",
     "iopub.status.idle": "2021-08-24T15:11:43.502271Z",
     "shell.execute_reply": "2021-08-24T15:11:43.502720Z",
     "shell.execute_reply.started": "2021-08-24T14:50:39.958128Z"
    },
    "papermill": {
     "duration": 485.773865,
     "end_time": "2021-08-24T15:11:43.502876",
     "exception": false,
     "start_time": "2021-08-24T15:03:37.729011",
     "status": "completed"
    },
    "tags": []
   },
   "outputs": [
    {
     "name": "stdout",
     "output_type": "stream",
     "text": [
      "0.7350470019075017\n"
     ]
    }
   ],
   "source": [
    "# Define the model \n",
    "model = RandomForestRegressor(random_state=1, n_estimators=200, criterion=\"mae\", n_jobs=-1, max_depth=3)\n",
    "\n",
    "# Train the model \n",
    "model.fit(X_train, y_train)\n",
    "preds_valid = model.predict(X_valid)\n",
    "print(mean_squared_error(y_valid, preds_valid, squared=False))\n",
    "\n",
    "#squared=False to get the root mean squared error (RMSE) on the validation data.\n"
   ]
  },
  {
   "cell_type": "code",
   "execution_count": 11,
   "id": "civil-dress",
   "metadata": {
    "execution": {
     "iopub.execute_input": "2021-08-24T15:11:43.543840Z",
     "iopub.status.busy": "2021-08-24T15:11:43.543003Z",
     "iopub.status.idle": "2021-08-24T15:11:43.650272Z",
     "shell.execute_reply": "2021-08-24T15:11:43.649878Z",
     "shell.execute_reply.started": "2021-08-24T14:51:08.549398Z"
    },
    "papermill": {
     "duration": 0.129561,
     "end_time": "2021-08-24T15:11:43.650378",
     "exception": false,
     "start_time": "2021-08-24T15:11:43.520817",
     "status": "completed"
    },
    "tags": []
   },
   "outputs": [
    {
     "data": {
      "text/plain": [
       "0.013853084320098796"
      ]
     },
     "execution_count": 11,
     "metadata": {},
     "output_type": "execute_result"
    }
   ],
   "source": [
    "# get R^2 to see how well our model explains variance in Y \n",
    "model.score(X_valid, y_valid, sample_weight=None)"
   ]
  },
  {
   "cell_type": "markdown",
   "id": "hollow-juvenile",
   "metadata": {
    "papermill": {
     "duration": 0.017226,
     "end_time": "2021-08-24T15:11:43.685223",
     "exception": false,
     "start_time": "2021-08-24T15:11:43.667997",
     "status": "completed"
    },
    "tags": []
   },
   "source": [
    "# Tuning model with Optuna"
   ]
  },
  {
   "cell_type": "code",
   "execution_count": 12,
   "id": "current-ireland",
   "metadata": {
    "execution": {
     "iopub.execute_input": "2021-08-24T15:11:43.725417Z",
     "iopub.status.busy": "2021-08-24T15:11:43.724931Z",
     "iopub.status.idle": "2021-08-24T15:40:08.687111Z",
     "shell.execute_reply": "2021-08-24T15:40:08.687538Z",
     "shell.execute_reply.started": "2021-08-24T14:51:16.840472Z"
    },
    "papermill": {
     "duration": 1704.985046,
     "end_time": "2021-08-24T15:40:08.687683",
     "exception": false,
     "start_time": "2021-08-24T15:11:43.702637",
     "status": "completed"
    },
    "tags": []
   },
   "outputs": [
    {
     "name": "stderr",
     "output_type": "stream",
     "text": [
      "\u001b[32m[I 2021-08-24 15:11:44,243]\u001b[0m A new study created in memory with name: no-name-6c172ee6-34dc-438a-93e2-97db3ab0c2db\u001b[0m\n",
      "\u001b[32m[I 2021-08-24 15:19:13,669]\u001b[0m Trial 0 finished with value: 0.7341653934851886 and parameters: {'max_depth': 4, 'max_features': 0.8}. Best is trial 0 with value: 0.7341653934851886.\u001b[0m\n",
      "\u001b[32m[I 2021-08-24 15:27:20,787]\u001b[0m Trial 1 finished with value: 0.7342714390476305 and parameters: {'max_depth': 4, 'max_features': 0.9}. Best is trial 0 with value: 0.7341653934851886.\u001b[0m\n",
      "\u001b[32m[I 2021-08-24 15:32:07,855]\u001b[0m Trial 2 finished with value: 0.7353370968825728 and parameters: {'max_depth': 3, 'max_features': 0.6}. Best is trial 0 with value: 0.7341653934851886.\u001b[0m\n",
      "\u001b[32m[I 2021-08-24 15:40:08,663]\u001b[0m Trial 3 finished with value: 0.7342539157687843 and parameters: {'max_depth': 4, 'max_features': 0.9}. Best is trial 0 with value: 0.7341653934851886.\u001b[0m\n"
     ]
    }
   ],
   "source": [
    "import optuna\n",
    "\n",
    "def objective(trial):\n",
    "    \n",
    "    #n_estimators = trial.suggest_int(\"n_estimators\", 100) # fixed\n",
    "    max_depth = trial.suggest_int(\"max_depth\", 1, 4, step=1)\n",
    "    max_features = trial.suggest_float(\"max_features\", 0.5, 1.0, step=0.1)\n",
    "    \n",
    "    model = RandomForestRegressor( \n",
    "                                  n_estimators=200, # to safe time because runing on max CPU not TPU\n",
    "                                  criterion=\"mae\", \n",
    "                                  n_jobs=-1, \n",
    "                                  max_depth=max_depth,\n",
    "                                  max_features=max_features\n",
    "                                 )\n",
    "    \n",
    "    model.fit(X_train, y_train)\n",
    "    \n",
    "    y_hat = model.predict(X_valid)\n",
    "    \n",
    "    return mean_squared_error(y_valid, y_hat, squared=False)\n",
    "\n",
    "study = optuna.create_study()\n",
    "study.optimize(objective, n_trials=4)"
   ]
  },
  {
   "cell_type": "code",
   "execution_count": 13,
   "id": "southeast-indian",
   "metadata": {
    "execution": {
     "iopub.execute_input": "2021-08-24T15:40:08.729729Z",
     "iopub.status.busy": "2021-08-24T15:40:08.729051Z",
     "iopub.status.idle": "2021-08-24T15:40:08.734057Z",
     "shell.execute_reply": "2021-08-24T15:40:08.733613Z",
     "shell.execute_reply.started": "2021-08-24T14:51:30.207153Z"
    },
    "papermill": {
     "duration": 0.027555,
     "end_time": "2021-08-24T15:40:08.734155",
     "exception": false,
     "start_time": "2021-08-24T15:40:08.706600",
     "status": "completed"
    },
    "tags": []
   },
   "outputs": [
    {
     "data": {
      "text/plain": [
       "{'max_depth': 4, 'max_features': 0.8}"
      ]
     },
     "execution_count": 13,
     "metadata": {},
     "output_type": "execute_result"
    }
   ],
   "source": [
    "study.best_params"
   ]
  },
  {
   "cell_type": "markdown",
   "id": "crazy-amsterdam",
   "metadata": {
    "papermill": {
     "duration": 0.018673,
     "end_time": "2021-08-24T15:40:08.771633",
     "exception": false,
     "start_time": "2021-08-24T15:40:08.752960",
     "status": "completed"
    },
    "tags": []
   },
   "source": [
    "## Make prediction with our tuned parameters (max depth, max_features) "
   ]
  },
  {
   "cell_type": "code",
   "execution_count": 14,
   "id": "matched-particle",
   "metadata": {
    "execution": {
     "iopub.execute_input": "2021-08-24T15:40:08.817743Z",
     "iopub.status.busy": "2021-08-24T15:40:08.817063Z",
     "iopub.status.idle": "2021-08-24T16:05:04.467416Z",
     "shell.execute_reply": "2021-08-24T16:05:04.466818Z",
     "shell.execute_reply.started": "2021-08-24T14:55:51.472136Z"
    },
    "papermill": {
     "duration": 1495.677132,
     "end_time": "2021-08-24T16:05:04.467599",
     "exception": false,
     "start_time": "2021-08-24T15:40:08.790467",
     "status": "completed"
    },
    "tags": []
   },
   "outputs": [
    {
     "name": "stdout",
     "output_type": "stream",
     "text": [
      "Loss:0.751010726510877\n",
      "Loss:0.7543207813989414\n",
      "Loss:0.7260345979219538\n",
      "Loss:0.7271151751534162\n",
      "Loss:0.7476685725957887\n",
      "Avg. Loss: 0.7412299707161953\n"
     ]
    }
   ],
   "source": [
    "from sklearn.model_selection import KFold\n",
    "\n",
    "best_params =  study.best_params  \n",
    "final_pred = []\n",
    "total_loss = 0\n",
    "\n",
    "kfold = KFold(n_splits=5, shuffle=True, random_state=42)\n",
    "\n",
    "# train our model 5 times on a subset of 10,000 observations \n",
    "# each time use the trained model to predict on complete set of 300,000 observations\n",
    "# then take the average of the 5 result sets as our final prediction\n",
    "train_size = 1/30  # 10,000\n",
    "\n",
    "# this is to get a random subset of rows of train_size\n",
    "X_sample, _, y_sample, _ = train_test_split(X, y, random_state=123, train_size=train_size, test_size=test_size )\n",
    "\n",
    "# now use kfold to go through this set a number of times using our best params\n",
    "for train_indx, val_indx in kfold.split(X_sample):\n",
    "    X_train, X_val = X_sample.iloc[train_indx], X_sample.iloc[val_indx] \n",
    "    y_train, y_val = y_sample.iloc[train_indx], y_sample.iloc[val_indx]\n",
    "        \n",
    "    model_final = RandomForestRegressor(\n",
    "                                  n_estimators=200, \n",
    "                                  criterion=\"mae\", \n",
    "                                  n_jobs=-1,\n",
    "                                  **best_params)\n",
    "    \n",
    "    model_final.fit(X_train, y_train)  #fit on a subsete of the 10,000\n",
    "    \n",
    "    y_hat = model_final.predict(X_val)\n",
    "    score = mean_squared_error(y_hat, y_val, squared=False)\n",
    "    print(f\"Loss:{score}\")\n",
    "    total_loss += score\n",
    "    final_pred.append(model_final.predict(X_final))  #we predict use full test set based on this tained model\n",
    "    #final_pred.append(model_final.predict(X))  #we predict use full test set based on this tained model\n",
    "\n",
    "print(f\"Avg. Loss: {total_loss/kfold.get_n_splits()}\")  "
   ]
  },
  {
   "cell_type": "code",
   "execution_count": 15,
   "id": "aggressive-demonstration",
   "metadata": {
    "execution": {
     "iopub.execute_input": "2021-08-24T16:05:04.515636Z",
     "iopub.status.busy": "2021-08-24T16:05:04.514469Z",
     "iopub.status.idle": "2021-08-24T16:05:04.525071Z",
     "shell.execute_reply": "2021-08-24T16:05:04.525435Z",
     "shell.execute_reply.started": "2021-08-24T14:56:09.713954Z"
    },
    "papermill": {
     "duration": 0.036238,
     "end_time": "2021-08-24T16:05:04.525578",
     "exception": false,
     "start_time": "2021-08-24T16:05:04.489340",
     "status": "completed"
    },
    "tags": []
   },
   "outputs": [
    {
     "data": {
      "text/plain": [
       "(200000,)"
      ]
     },
     "execution_count": 15,
     "metadata": {},
     "output_type": "execute_result"
    }
   ],
   "source": [
    "\n",
    "predictions = np.mean(np.column_stack(final_pred), axis=1)\n",
    "predictions.shape"
   ]
  },
  {
   "cell_type": "code",
   "execution_count": 16,
   "id": "arbitrary-gardening",
   "metadata": {
    "execution": {
     "iopub.execute_input": "2021-08-24T16:05:04.570657Z",
     "iopub.status.busy": "2021-08-24T16:05:04.570094Z",
     "iopub.status.idle": "2021-08-24T16:05:04.573887Z",
     "shell.execute_reply": "2021-08-24T16:05:04.573443Z",
     "shell.execute_reply.started": "2021-08-24T14:54:19.607336Z"
    },
    "papermill": {
     "duration": 0.027476,
     "end_time": "2021-08-24T16:05:04.574004",
     "exception": false,
     "start_time": "2021-08-24T16:05:04.546528",
     "status": "completed"
    },
    "tags": []
   },
   "outputs": [],
   "source": [
    "# score = mean_squared_error(predictions, y, squared=False)\n",
    "# print(f\"Loss:{score}\")"
   ]
  },
  {
   "cell_type": "markdown",
   "id": "mineral-possession",
   "metadata": {
    "papermill": {
     "duration": 0.020779,
     "end_time": "2021-08-24T16:05:04.615743",
     "exception": false,
     "start_time": "2021-08-24T16:05:04.594964",
     "status": "completed"
    },
    "tags": []
   },
   "source": [
    "# Submit to the competition\n",
    "\n",
    "We'll begin by using the trained model to generate predictions, which we'll save to a CSV file."
   ]
  },
  {
   "cell_type": "code",
   "execution_count": 17,
   "id": "constitutional-bankruptcy",
   "metadata": {
    "execution": {
     "iopub.execute_input": "2021-08-24T16:05:04.662570Z",
     "iopub.status.busy": "2021-08-24T16:05:04.662054Z",
     "iopub.status.idle": "2021-08-24T16:05:05.458070Z",
     "shell.execute_reply": "2021-08-24T16:05:05.457547Z",
     "shell.execute_reply.started": "2021-08-24T14:56:14.988655Z"
    },
    "papermill": {
     "duration": 0.820912,
     "end_time": "2021-08-24T16:05:05.458194",
     "exception": false,
     "start_time": "2021-08-24T16:05:04.637282",
     "status": "completed"
    },
    "tags": []
   },
   "outputs": [],
   "source": [
    "# Save the predictions to a CSV file\n",
    "output = pd.DataFrame({'Id': X_final.index,\n",
    "                       'target': predictions})\n",
    "output.to_csv('submission.csv', index=False)"
   ]
  }
 ],
 "metadata": {
  "kernelspec": {
   "display_name": "Python 3",
   "language": "python",
   "name": "python3"
  },
  "language_info": {
   "codemirror_mode": {
    "name": "ipython",
    "version": 3
   },
   "file_extension": ".py",
   "mimetype": "text/x-python",
   "name": "python",
   "nbconvert_exporter": "python",
   "pygments_lexer": "ipython3",
   "version": "3.7.10"
  },
  "papermill": {
   "default_parameters": {},
   "duration": 3707.528777,
   "end_time": "2021-08-24T16:05:07.051319",
   "environment_variables": {},
   "exception": null,
   "input_path": "__notebook__.ipynb",
   "output_path": "__notebook__.ipynb",
   "parameters": {},
   "start_time": "2021-08-24T15:03:19.522542",
   "version": "2.3.3"
  }
 },
 "nbformat": 4,
 "nbformat_minor": 5
}
